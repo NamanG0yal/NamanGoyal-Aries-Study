{
  "nbformat": 4,
  "nbformat_minor": 0,
  "metadata": {
    "colab": {
      "provenance": [],
      "authorship_tag": "ABX9TyOGB/dwf7z8/HzR+dJTPFd+",
      "include_colab_link": true
    },
    "kernelspec": {
      "name": "python3",
      "display_name": "Python 3"
    },
    "language_info": {
      "name": "python"
    }
  },
  "cells": [
    {
      "cell_type": "markdown",
      "metadata": {
        "id": "view-in-github",
        "colab_type": "text"
      },
      "source": [
        "<a href=\"https://colab.research.google.com/github/NamanG0yal/NamanGoyal-Aries-Study/blob/main/Aries_Week1_Learning_Numpy.ipynb\" target=\"_parent\"><img src=\"https://colab.research.google.com/assets/colab-badge.svg\" alt=\"Open In Colab\"/></a>"
      ]
    },
    {
      "cell_type": "code",
      "source": [
        "import pandas as panda\n",
        "import numpy as np\n",
        "import matplotlib.pyplot as plt\n",
        "import torch\n",
        "import math"
      ],
      "metadata": {
        "id": "D5qH8vbWPUhy"
      },
      "execution_count": null,
      "outputs": []
    },
    {
      "cell_type": "code",
      "source": [
        "#Implementing a basic neural network with just one hidden layers consisting of two neurons\n",
        "def sigmoid(inp):\n",
        "  return (1 / (1 + np.exp(-inp)))\n",
        "def neuron(inp , weights ,bias):\n",
        "  return sigmoid(np.dot(inp , weights) + bias)\n",
        "def neural_network(inp , weights , bias):\n",
        "    layer1_result = np.ones(2)\n",
        "    #Now we pass on the input function on our first layer of two neurons and store the result in layer1_result\n",
        "    for i in range(len(inp)):\n",
        "      layer1_result[i] = neuron(inp , weights,bias)\n",
        "    #Now we return the final result\n",
        "    return neuron(layer1_result , weights,  bias)\n",
        "inp = np.array([2 ,3])\n",
        "weights = np.array([0 , 1])\n",
        "bias = 0\n",
        "print(neural_network(inp , weights, bias))"
      ],
      "metadata": {
        "colab": {
          "base_uri": "https://localhost:8080/"
        },
        "id": "W_ePSbw6DRuH",
        "outputId": "3f4a3deb-10c4-411a-c132-09fcac1e5930"
      },
      "execution_count": null,
      "outputs": [
        {
          "output_type": "stream",
          "name": "stdout",
          "text": [
            "0.7216325609518421\n"
          ]
        }
      ]
    },
    {
      "cell_type": "code",
      "source": [
        "#Implementing a neural network to determine a person's gender given weights and heights\n",
        "#For learning purposes we are using simple cost functions and simple activation functions\n",
        "inp = np.array([\n",
        "  [-2, -1],  # Alice\n",
        "  [25, 6],   # Bob\n",
        "  [17, 4],   # Charlie\n",
        "  [-15, -6], # Diana\n",
        "])\n",
        "y_true = np.array([\n",
        "  1, # Alice\n",
        "  0, # Bob\n",
        "  0, # Charlie\n",
        "  1, # Diana\n",
        "])\n",
        "#Initializing all weights and biases as one in the beginning\n",
        "weights = np.ones((3,2))\n",
        "bias = np.ones(3)\n",
        "\n",
        "def sigmoid(inp):\n",
        "  return (1 / (1 + np.exp(-inp)))\n",
        "def neuron(inp , weights, bias):\n",
        "  return sigmoid(np.dot(weights,inp)  + bias)\n",
        "def cost(y_true , y_pred):\n",
        "  return ((y_true - y_pred) ** 2).mean()\n",
        "\n",
        "def neural_network(inp , weights , bias ) :\n",
        "\n",
        "  layer1_out = np.ones(2)\n",
        "  for i in range(len(inp))    :\n",
        "    layer1_out[i] = neuron(inp , weights[i]  , bias[i] )\n",
        "  return neuron(layer1_out ,weights[-1] , bias[-1])\n",
        "def train_neural_network(weights, bias , y_true,inp):\n",
        "\n",
        "  learning_rate = 10\n",
        "  epochs = 1000\n",
        "\n",
        "  #Defining the partial derivatives  :\n",
        "  pd_weights = np.ones((3, 2))\n",
        "  pd_bias = np.ones(3)\n",
        "  cost_data = np.ones(100)\n",
        "  for epoch in range(epochs):\n",
        "\n",
        "    for i in range(len(inp)):\n",
        "      y_pred = neural_network(inp[i] , weights , bias)\n",
        "      pd_weights[2 , 0] = -2 * (y_true[i] - y_pred) * (y_pred) * (1 - y_pred) * weights[2 ,0]\n",
        "      pd_weights[2,1] = -2 * (y_true[i] - y_pred) * (y_pred)  * (1 - y_pred) * weights[2,1]\n",
        "      sigmoid_h1 = neuron(inp[i] , weights[1 ] , bias[1] )\n",
        "      sigmoid_h2 = neuron(inp[i] , weights[0]  , bias[0])\n",
        "\n",
        "\n",
        "      pd_weights[1 , 0] = pd_weights[2 , 0]  * inp[i , 0  ]  *sigmoid_h1 * (1  - sigmoid_h1)\n",
        "      pd_weights[1,  1] = pd_weights[2, 1]  * inp[i , 1] * sigmoid_h1  * (1   - sigmoid_h1)\n",
        "\n",
        "      pd_weights[0 , 0] = pd_weights[2 , 0]  * inp[i , 0  ]  *sigmoid_h2 * (1  - sigmoid_h2)\n",
        "      pd_weights[0, 1 ] = pd_weights[2, 1]  * inp[i , 1] * sigmoid_h2  * (1   - sigmoid_h2)\n",
        "\n",
        "      pd_bias[2]  = -2 * (y_true[i] - y_pred) * (y_pred) * (1 - y_pred)\n",
        "      pd_bias[1] = pd_weights[2 , 0]   *sigmoid_h1 * (1  - sigmoid_h1)\n",
        "      pd_bias[0]  =  pd_weights[2, 1]  * sigmoid_h2  * (1   - sigmoid_h2)\n",
        "      for k in range(len(weights)):\n",
        "        for m in range(len(weights[0])):\n",
        "          weights[k , m] -= learning_rate * pd_weights[k , m]\n",
        "        bias[k] -= learning_rate * pd_bias[k]\n",
        "      if epoch %  10 == 0 :\n",
        "        cost_data[epoch // 10 ] = cost(y_true[i] , y_pred)\n",
        "\n",
        "  plt.plot(  np.arange(0 , 1000 , 10) ,  cost_data  , 'r.--' )\n",
        "  plt.title(\"Cost Function vs Number of Epochs\")\n",
        "  plt.xlabel(\"Number of Epochs\")\n",
        "  plt.ylabel(\"Cost Function\")\n",
        "  plt.show()\n",
        "train_neural_network(weights,bias,y_true,inp)\n",
        "#Testing using victor zhou's test sample provided :\n",
        "\n",
        "print(neural_network([128 , 63] , weights ,bias))"
      ],
      "metadata": {
        "id": "IyHsFZ1hDHcH",
        "colab": {
          "base_uri": "https://localhost:8080/",
          "height": 490
        },
        "outputId": "ea10d65a-e0ad-4875-ef52-c1dd3072dc29"
      },
      "execution_count": null,
      "outputs": [
        {
          "output_type": "display_data",
          "data": {
            "text/plain": [
              "<Figure size 640x480 with 1 Axes>"
            ],
            "image/png": "[encoded data removed]"
          },
          "metadata": {}
        },
        {
          "output_type": "stream",
          "name": "stdout",
          "text": [
            "1.0\n"
          ]
        }
      ]
    },
    {
      "cell_type": "code",
      "source": [
        "## Learning Pytorch fundamentals !!"
      ],
      "metadata": {
        "id": "0EwEPM6RoMl5"
      },
      "execution_count": null,
      "outputs": []
    },
    {
      "cell_type": "code",
      "source": [
        "test = torch.tensor()\n",
        "test"
      ],
      "metadata": {
        "colab": {
          "base_uri": "https://localhost:8080/"
        },
        "id": "QOpIeDBol-R3",
        "outputId": "52e7a053-c454-4f2b-ea50-7d3bd56af896"
      },
      "execution_count": null,
      "outputs": [
        {
          "output_type": "execute_result",
          "data": {
            "text/plain": [
              "tensor([2])"
            ]
          },
          "metadata": {},
          "execution_count": 12
        }
      ]
    }
  ]
}